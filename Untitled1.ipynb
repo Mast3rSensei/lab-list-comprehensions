{
 "cells": [
  {
   "cell_type": "code",
   "execution_count": 7,
   "metadata": {},
   "outputs": [
    {
     "data": {
      "text/plain": [
       "[1, 2, 3, 'five', 7]"
      ]
     },
     "execution_count": 7,
     "metadata": {},
     "output_type": "execute_result"
    }
   ],
   "source": [
    "newlist = [1,2,3,\"four\",\"five\",\"six\",7]\n",
    "\n",
    "for el in newlist:\n",
    "    if type(el) is str:\n",
    "        newlist.remove(el)\n",
    "    \n",
    "newlist"
   ]
  },
  {
   "cell_type": "code",
   "execution_count": 10,
   "metadata": {},
   "outputs": [
    {
     "data": {
      "text/plain": [
       "['not too hot',\n",
       " 'not too hot',\n",
       " 'not too hot',\n",
       " 'not too hot',\n",
       " 'not too hot',\n",
       " 'not too hot',\n",
       " 'too hot']"
      ]
     },
     "execution_count": 10,
     "metadata": {},
     "output_type": "execute_result"
    }
   ],
   "source": [
    "## I want the message \"too hot\" when the celsius value is more than 40 and \"not too hot\" otherwise, for all faren temps over 70\n",
    "lst = [78, 98, 90, 67, 78, 87, 95, 184]\n",
    "lst = [\"too hot\" if (x-32)/1.8 >40 else \"not too hot\" for x in lst if x > 70]\n",
    "lst"
   ]
  },
  {
   "cell_type": "code",
   "execution_count": 11,
   "metadata": {},
   "outputs": [],
   "source": [
    "# !advanced \n",
    "# nested lists with list comprehensions\n",
    "\n",
    "matrix = [j for j in range(5) for i in range(5)] \n",
    "matrix = [[j for j in range(5)] for i in range(5)]"
   ]
  },
  {
   "cell_type": "code",
   "execution_count": null,
   "metadata": {},
   "outputs": [],
   "source": [
    "#Suppose I want to flatten a given 2-D list and only include those strings whose lengths are less than 6\n",
    "\n",
    "planets = [[\"Mercury\", \"Venus\", \"Earth\"], [\"Mars\", \"Jupiter\", \"Saturn\"], [\"Uranus\", \"Neptune\", \"Pluto\"]]\n",
    "indexes = newlist\n",
    "\n",
    "[planet for group in planets for planet in group]"
   ]
  }
 ],
 "metadata": {
  "kernelspec": {
   "display_name": "Python 3",
   "language": "python",
   "name": "python3"
  },
  "language_info": {
   "codemirror_mode": {
    "name": "ipython",
    "version": 3
   },
   "file_extension": ".py",
   "mimetype": "text/x-python",
   "name": "python",
   "nbconvert_exporter": "python",
   "pygments_lexer": "ipython3",
   "version": "3.7.4"
  }
 },
 "nbformat": 4,
 "nbformat_minor": 2
}
